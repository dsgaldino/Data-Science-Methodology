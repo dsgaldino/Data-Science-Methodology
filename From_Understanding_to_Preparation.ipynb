{
  "metadata": {
    "kernelspec": {
      "display_name": "Python 3 (ipykernel)",
      "language": "python",
      "name": "python3"
    },
    "language_info": {
      "codemirror_mode": {
        "name": "ipython",
        "version": 3
      },
      "file_extension": ".py",
      "mimetype": "text/x-python",
      "name": "python",
      "nbconvert_exporter": "python",
      "pygments_lexer": "ipython3",
      "version": "3.8.9"
    },
    "colab": {
      "provenance": [],
      "collapsed_sections": [
        "5G0fo11jKhg1"
      ]
    }
  },
  "nbformat_minor": 0,
  "nbformat": 4,
  "cells": [
    {
      "cell_type": "markdown",
      "source": [
        "<a href=\"https://cognitiveclass.ai/?utm_medium=Exinfluencer&utm_source=Exinfluencer&utm_content=000026UJ&utm_term=10006555&utm_id=NA-SkillsNetwork-Channel-SkillsNetworkCoursesIBMDeveloperSkillsNetworkDS0103ENSkillsNetwork20083987-2022-01-01\"><img src = \"https://cf-courses-data.s3.us.cloud-object-storage.appdomain.cloud/IBMDeveloperSkillsNetwork-DS0103EN-SkillsNetwork/labs/Module%203/images/IDSNlogo.png\" width = 400> </a>\n",
        "\n",
        "# From Understanding to Preparation\n",
        "\n",
        "Estimated time needed: **20** minutes\n",
        "\n",
        "## Objectives\n",
        "\n",
        "After completing this lab you will be able to:\n",
        "\n",
        "*   Understand Data\n",
        "*   Prepare Data for analysis and inference\n"
      ],
      "metadata": {
        "button": false,
        "new_sheet": false,
        "run_control": {
          "read_only": false
        },
        "id": "Ug5b1GBuKhgt"
      }
    },
    {
      "cell_type": "markdown",
      "source": [
        "## Introduction\n",
        "\n",
        "In this lab, we will continue learning about the data science methodology, and focus on the **Data Understanding** and the **Data Preparation** stages.\n"
      ],
      "metadata": {
        "button": false,
        "new_sheet": false,
        "run_control": {
          "read_only": false
        },
        "id": "qvTZzmQAKhgv"
      }
    },
    {
      "cell_type": "markdown",
      "source": [
        "## Table of Contents\n",
        "\n",
        "<div class=\"alert alert-block alert-info\" style=\"margin-top: 20px\">\n",
        "\n",
        "1.  [Recap](#0)<br>\n",
        "2.  [Data Understanding](#2)<br>\n",
        "3.  [Data Preparation](#4)<br>\n",
        "\n",
        "</div>\n",
        "<hr>\n"
      ],
      "metadata": {
        "button": false,
        "new_sheet": false,
        "run_control": {
          "read_only": false
        },
        "id": "utCwuwqaKhgv"
      }
    },
    {
      "cell_type": "markdown",
      "source": [
        "# Recap <a id=\"0\"></a>\n"
      ],
      "metadata": {
        "button": false,
        "new_sheet": false,
        "run_control": {
          "read_only": false
        },
        "id": "_PrSTtkSKhgv"
      }
    },
    {
      "cell_type": "markdown",
      "source": [
        "In Lab **From Requirements to Collection**, we learned that the data we need to answer the question developed in the business understanding stage, namely *can we automate the process of determining the cuisine of a given recipe?*, is readily available. A researcher named Yong-Yeol Ahn scraped tens of thousands of food recipes (cuisines and ingredients) from three different websites, namely:\n"
      ],
      "metadata": {
        "button": false,
        "new_sheet": false,
        "run_control": {
          "read_only": false
        },
        "id": "6NvWnQDVKhgv"
      }
    },
    {
      "cell_type": "markdown",
      "source": [
        "<img src=\"https://cf-courses-data.s3.us.cloud-object-storage.appdomain.cloud/IBMDeveloperSkillsNetwork-DS0103EN-SkillsNetwork/labs/Module%202/images/lab2_fig3_allrecipes.png\" width=500>\n",
        "<div align=\"center\">\n",
        "www.allrecipes.com\n",
        "</div>\n",
        "<br/><br/>\n",
        "<img src=\"https://cf-courses-data.s3.us.cloud-object-storage.appdomain.cloud/IBMDeveloperSkillsNetwork-DS0103EN-SkillsNetwork/labs/Module%202/images/lab2_fig4_epicurious.png\" width=500>\n",
        "<div align=\"center\">\n",
        "www.epicurious.com\n",
        "</div>\n",
        "<br/><br/>\n",
        "<img src=\"https://cf-courses-data.s3.us.cloud-object-storage.appdomain.cloud/IBMDeveloperSkillsNetwork-DS0103EN-SkillsNetwork/labs/Module%202/images/lab2_fig5_menupan.png\" width=500>\n",
        "<div align=\"center\">\n",
        "www.menupan.com\n",
        "</div>\n",
        "<br/><br/>\n"
      ],
      "metadata": {
        "button": false,
        "new_sheet": false,
        "run_control": {
          "read_only": false
        },
        "id": "eR8vEl4OKhgv"
      }
    },
    {
      "cell_type": "markdown",
      "source": [
        "For more information on Yong-Yeol Ahn and his research, you can read his paper on [Flavor Network and the Principles of Food Pairing](http://yongyeol.com/papers/ahn-flavornet-2011.pdf?utm_medium=Exinfluencer&utm_source=Nurture&utm_content=000026UJ&utm_term=10006555&utm_id=SkillsNetwork-Courses-IBMDeveloperSkillsNetwork-DS0103EN-SkillsNetwork-20083987&utm_email=Email&utm_campaign=PLACEHOLDER).\n"
      ],
      "metadata": {
        "button": false,
        "new_sheet": false,
        "run_control": {
          "read_only": false
        },
        "id": "M5U3GEC-Khgw"
      }
    },
    {
      "cell_type": "markdown",
      "source": [
        "We also collected the data and placed it on an IBM server for your convenience.\n",
        "\n",
        "***\n"
      ],
      "metadata": {
        "button": false,
        "new_sheet": false,
        "run_control": {
          "read_only": false
        },
        "id": "NLwsviPdKhgw"
      }
    },
    {
      "cell_type": "markdown",
      "source": [
        "# Data Understanding <a id=\"2\"></a>\n"
      ],
      "metadata": {
        "button": false,
        "new_sheet": false,
        "run_control": {
          "read_only": false
        },
        "id": "rk9hymiDKhgw"
      }
    },
    {
      "cell_type": "markdown",
      "source": [
        "<img src=\"https://cf-courses-data.s3.us.cloud-object-storage.appdomain.cloud/IBMDeveloperSkillsNetwork-DS0103EN-SkillsNetwork/labs/Module%203/images/flowchart_data_understanding.png\" width=500>\n"
      ],
      "metadata": {
        "button": false,
        "new_sheet": false,
        "run_control": {
          "read_only": false
        },
        "id": "vv7tLCrDKhgw"
      }
    },
    {
      "cell_type": "markdown",
      "source": [
        "<strong>Important note:</strong> Please note that you are not expected to know how to program in python. The following code is meant to illustrate the stage of data collection, so it is totally fine if you do not understand the individual lines of code. There will be a full course in this certificate on programming in python, <a href=\"http://cocl.us/PY0101EN_DS0103EN_LAB3_PYTHON_edX?utm_medium=Exinfluencer&utm_source=Exinfluencer&utm_content=000026UJ&utm_term=10006555&utm_id=NA-SkillsNetwork-Channel-SkillsNetworkCoursesIBMDeveloperSkillsNetworkDS0103ENSkillsNetwork20083987-2022-01-01\">Python for Data Science</a>, which will teach you how to program in Python if you decide to complete this certificate.\n"
      ],
      "metadata": {
        "button": false,
        "new_sheet": false,
        "run_control": {
          "read_only": false
        },
        "id": "IzCus0jdKhgw"
      }
    },
    {
      "cell_type": "markdown",
      "source": [
        "### Using this notebook:\n",
        "\n",
        "To run any of the following cells of code, you can type **Shift + Enter** to excute the code in a cell.\n"
      ],
      "metadata": {
        "button": false,
        "new_sheet": false,
        "run_control": {
          "read_only": false
        },
        "id": "RP_Yjo8hKhgw"
      }
    },
    {
      "cell_type": "markdown",
      "source": [
        "Get the version of Python installed.\n"
      ],
      "metadata": {
        "button": false,
        "new_sheet": false,
        "run_control": {
          "read_only": false
        },
        "id": "Sr3KnMdBKhgx"
      }
    },
    {
      "cell_type": "code",
      "source": [
        "# check Python version if running locally\n",
        "# !python -V"
      ],
      "metadata": {
        "button": false,
        "new_sheet": false,
        "run_control": {
          "read_only": false
        },
        "id": "bXUTc5nAKhgx"
      },
      "execution_count": null,
      "outputs": []
    },
    {
      "cell_type": "markdown",
      "source": [
        "Download the library and dependencies that we will need to run this lab.\n"
      ],
      "metadata": {
        "button": false,
        "new_sheet": false,
        "run_control": {
          "read_only": false
        },
        "id": "VV5EQgfaKhgx"
      }
    },
    {
      "cell_type": "code",
      "source": [
        "import pandas as pd # import library to read data into dataframe\n",
        "pd.set_option('display.max_columns', None)\n",
        "import numpy as np # import numpy library\n",
        "import re # import library for regular expression"
      ],
      "metadata": {
        "button": false,
        "new_sheet": false,
        "run_control": {
          "read_only": false
        },
        "id": "R1x7_6CTKhgx"
      },
      "execution_count": null,
      "outputs": []
    },
    {
      "cell_type": "markdown",
      "source": [
        "Download the data from the IBM server and read it into a *pandas* dataframe.\n"
      ],
      "metadata": {
        "button": false,
        "new_sheet": false,
        "run_control": {
          "read_only": false
        },
        "id": "gnGIZEJXKhgx"
      }
    },
    {
      "cell_type": "code",
      "source": [
        "# Uncomment if running locally, else download data using the following code cell\n",
        "# recipes = pd.read_csv(\"https://cf-courses-data.s3.us.cloud-object-storage.appdomain.cloud/IBMDeveloperSkillsNetwork-DS0103EN-SkillsNetwork/labs/Module%202/recipes.csv\")\n",
        "\n",
        "# print(\"Data read into dataframe!\") # takes about 30 seconds"
      ],
      "metadata": {
        "button": false,
        "new_sheet": false,
        "run_control": {
          "read_only": false
        },
        "id": "69bb6670Khgy"
      },
      "execution_count": null,
      "outputs": []
    },
    {
      "cell_type": "code",
      "source": [
        "import piplite\n",
        "await piplite.install(['skillsnetwork'])\n",
        "import skillsnetwork\n",
        "\n",
        "# Download to current directory with same filename\n",
        "await skillsnetwork.download_dataset(\n",
        "    \"https://cf-courses-data.s3.us.cloud-object-storage.appdomain.cloud/IBMDeveloperSkillsNetwork-DS0103EN-SkillsNetwork/labs/Module%202/recipes.csv\",\n",
        "    \"recipes.csv\")\n",
        "\n",
        "recipes = pd.read_csv(\"recipes.csv\")\n",
        "print(\"Data read into dataframe!\") # takes about 30 seconds"
      ],
      "metadata": {
        "id": "JRTZiA81Khgy"
      },
      "execution_count": null,
      "outputs": []
    },
    {
      "cell_type": "markdown",
      "source": [
        "Show the first few rows.\n"
      ],
      "metadata": {
        "button": false,
        "new_sheet": false,
        "run_control": {
          "read_only": false
        },
        "id": "LmaEaYA2Khgy"
      }
    },
    {
      "cell_type": "code",
      "source": [
        "recipes.head()"
      ],
      "metadata": {
        "button": false,
        "new_sheet": false,
        "run_control": {
          "read_only": false
        },
        "id": "DG-w3d2PKhgy"
      },
      "execution_count": null,
      "outputs": []
    },
    {
      "cell_type": "markdown",
      "source": [
        "Get the dimensions of the dataframe.\n"
      ],
      "metadata": {
        "button": false,
        "new_sheet": false,
        "run_control": {
          "read_only": false
        },
        "id": "5Pb6a7_HKhgy"
      }
    },
    {
      "cell_type": "code",
      "source": [
        "recipes.shape"
      ],
      "metadata": {
        "button": false,
        "new_sheet": false,
        "run_control": {
          "read_only": false
        },
        "id": "Gy4ggxwIKhgy"
      },
      "execution_count": null,
      "outputs": []
    },
    {
      "cell_type": "markdown",
      "source": [
        "So our dataset consists of 57,691 recipes. Each row represents a recipe, and for each recipe, the corresponding cuisine is documented as well as whether 384 ingredients exist in the recipe or not, beginning with almond and ending with zucchini.\n"
      ],
      "metadata": {
        "button": false,
        "new_sheet": false,
        "run_control": {
          "read_only": false
        },
        "id": "3DuMAg4bKhgy"
      }
    },
    {
      "cell_type": "markdown",
      "source": [
        "We know that a basic sushi recipe includes the ingredients:\n",
        "\n",
        "*   rice\n",
        "*   soy sauce\n",
        "*   wasabi\n",
        "*   some fish/vegetables\n"
      ],
      "metadata": {
        "button": false,
        "new_sheet": false,
        "run_control": {
          "read_only": false
        },
        "id": "857r3E1kKhgy"
      }
    },
    {
      "cell_type": "markdown",
      "source": [
        "Let's check that these ingredients exist in our dataframe:\n"
      ],
      "metadata": {
        "button": false,
        "new_sheet": false,
        "run_control": {
          "read_only": false
        },
        "id": "shD5GcxXKhgy"
      }
    },
    {
      "cell_type": "code",
      "source": [
        "ingredients = list(recipes.columns.values)\n",
        "\n",
        "print([match.group(0) for ingredient in ingredients for match in [(re.compile(\".*(rice).*\")).search(ingredient)] if match])\n",
        "print([match.group(0) for ingredient in ingredients for match in [(re.compile(\".*(wasabi).*\")).search(ingredient)] if match])\n",
        "print([match.group(0) for ingredient in ingredients for match in [(re.compile(\".*(soy).*\")).search(ingredient)] if match])"
      ],
      "metadata": {
        "button": false,
        "new_sheet": false,
        "run_control": {
          "read_only": false
        },
        "id": "TlYpkiLYKhgy"
      },
      "execution_count": null,
      "outputs": []
    },
    {
      "cell_type": "markdown",
      "source": [
        "Yes, they do!\n",
        "\n",
        "*   rice exists as rice.\n",
        "*   wasabi exists as wasabi.\n",
        "*   soy exists as soy_sauce.\n",
        "\n",
        "So maybe if a recipe contains all three ingredients: rice, wasabi, and soy_sauce, then we can confidently say that the recipe is a **Japanese** cuisine! Let's keep this in mind!\n",
        "\n",
        "***\n"
      ],
      "metadata": {
        "button": false,
        "new_sheet": false,
        "run_control": {
          "read_only": false
        },
        "id": "ygRXxXU1Khgy"
      }
    },
    {
      "cell_type": "markdown",
      "source": [
        "# Data Preparation <a id=\"4\"></a>\n"
      ],
      "metadata": {
        "button": false,
        "new_sheet": false,
        "run_control": {
          "read_only": false
        },
        "id": "4Gqi_QPXKhgz"
      }
    },
    {
      "cell_type": "markdown",
      "source": [
        "<img src=\"https://cf-courses-data.s3.us.cloud-object-storage.appdomain.cloud/IBMDeveloperSkillsNetwork-DS0103EN-SkillsNetwork/labs/Module%203/images/lab3_fig5_flowchart_data_preparation.png\" width=500>\n"
      ],
      "metadata": {
        "button": false,
        "new_sheet": false,
        "run_control": {
          "read_only": false
        },
        "id": "cBRCVujoKhgz"
      }
    },
    {
      "cell_type": "markdown",
      "source": [
        "In this section, we will prepare data for the next stage in the data science methodology, which is modeling. This stage involves exploring the data further and making sure that it is in the right format for the machine learning algorithm that we selected in the analytic approach stage, which is decision trees.\n"
      ],
      "metadata": {
        "button": false,
        "new_sheet": false,
        "run_control": {
          "read_only": false
        },
        "id": "MolaBby3Khgz"
      }
    },
    {
      "cell_type": "markdown",
      "source": [
        "First, look at the data to see if it needs cleaning.\n"
      ],
      "metadata": {
        "button": false,
        "new_sheet": false,
        "run_control": {
          "read_only": false
        },
        "id": "c1Egbl3eKhgz"
      }
    },
    {
      "cell_type": "code",
      "source": [
        "recipes[\"country\"].value_counts() # frequency table"
      ],
      "metadata": {
        "button": false,
        "new_sheet": false,
        "run_control": {
          "read_only": false
        },
        "id": "pXxF4TouKhgz"
      },
      "execution_count": null,
      "outputs": []
    },
    {
      "cell_type": "markdown",
      "source": [
        "By looking at the above table, we can make the following observations:\n",
        "\n",
        "1.  Cuisine column is labeled as Country, which is inaccurate.\n",
        "2.  Cuisine names are not consistent as not all of them start with an uppercase first letter.\n",
        "3.  Some cuisines are duplicated as variation of the country name, such as Vietnam and Vietnamese.\n",
        "4.  Some cuisines have very few recipes.\n"
      ],
      "metadata": {
        "button": false,
        "new_sheet": false,
        "run_control": {
          "read_only": false
        },
        "id": "uzYD44ayKhgz"
      }
    },
    {
      "cell_type": "markdown",
      "source": [
        "#### Let's fix these problems.\n"
      ],
      "metadata": {
        "button": false,
        "new_sheet": false,
        "run_control": {
          "read_only": false
        },
        "id": "nMahBU06Khgz"
      }
    },
    {
      "cell_type": "markdown",
      "source": [
        "Fix the name of the column showing the cuisine.\n"
      ],
      "metadata": {
        "button": false,
        "new_sheet": false,
        "run_control": {
          "read_only": false
        },
        "id": "e9j9JYegKhgz"
      }
    },
    {
      "cell_type": "code",
      "source": [
        "column_names = recipes.columns.values\n",
        "column_names[0] = \"cuisine\"\n",
        "recipes.columns = column_names\n",
        "\n",
        "recipes"
      ],
      "metadata": {
        "button": false,
        "new_sheet": false,
        "run_control": {
          "read_only": false
        },
        "id": "xI7eBzGeKhgz"
      },
      "execution_count": null,
      "outputs": []
    },
    {
      "cell_type": "markdown",
      "source": [
        "Make all the cuisine names lowercase.\n"
      ],
      "metadata": {
        "button": false,
        "new_sheet": false,
        "run_control": {
          "read_only": false
        },
        "id": "wTFjhYKxKhgz"
      }
    },
    {
      "cell_type": "code",
      "source": [
        "recipes[\"cuisine\"] = recipes[\"cuisine\"].str.lower()"
      ],
      "metadata": {
        "button": false,
        "new_sheet": false,
        "run_control": {
          "read_only": false
        },
        "id": "Z91jGujZKhgz"
      },
      "execution_count": null,
      "outputs": []
    },
    {
      "cell_type": "markdown",
      "source": [
        "Make the cuisine names consistent.\n"
      ],
      "metadata": {
        "button": false,
        "new_sheet": false,
        "run_control": {
          "read_only": false
        },
        "id": "yXzpsv8VKhgz"
      }
    },
    {
      "cell_type": "code",
      "source": [
        "recipes.loc[recipes[\"cuisine\"] == \"austria\", \"cuisine\"] = \"austrian\"\n",
        "recipes.loc[recipes[\"cuisine\"] == \"belgium\", \"cuisine\"] = \"belgian\"\n",
        "recipes.loc[recipes[\"cuisine\"] == \"china\", \"cuisine\"] = \"chinese\"\n",
        "recipes.loc[recipes[\"cuisine\"] == \"canada\", \"cuisine\"] = \"canadian\"\n",
        "recipes.loc[recipes[\"cuisine\"] == \"netherlands\", \"cuisine\"] = \"dutch\"\n",
        "recipes.loc[recipes[\"cuisine\"] == \"france\", \"cuisine\"] = \"french\"\n",
        "recipes.loc[recipes[\"cuisine\"] == \"germany\", \"cuisine\"] = \"german\"\n",
        "recipes.loc[recipes[\"cuisine\"] == \"india\", \"cuisine\"] = \"indian\"\n",
        "recipes.loc[recipes[\"cuisine\"] == \"indonesia\", \"cuisine\"] = \"indonesian\"\n",
        "recipes.loc[recipes[\"cuisine\"] == \"iran\", \"cuisine\"] = \"iranian\"\n",
        "recipes.loc[recipes[\"cuisine\"] == \"italy\", \"cuisine\"] = \"italian\"\n",
        "recipes.loc[recipes[\"cuisine\"] == \"japan\", \"cuisine\"] = \"japanese\"\n",
        "recipes.loc[recipes[\"cuisine\"] == \"israel\", \"cuisine\"] = \"israeli\"\n",
        "recipes.loc[recipes[\"cuisine\"] == \"korea\", \"cuisine\"] = \"korean\"\n",
        "recipes.loc[recipes[\"cuisine\"] == \"lebanon\", \"cuisine\"] = \"lebanese\"\n",
        "recipes.loc[recipes[\"cuisine\"] == \"malaysia\", \"cuisine\"] = \"malaysian\"\n",
        "recipes.loc[recipes[\"cuisine\"] == \"mexico\", \"cuisine\"] = \"mexican\"\n",
        "recipes.loc[recipes[\"cuisine\"] == \"pakistan\", \"cuisine\"] = \"pakistani\"\n",
        "recipes.loc[recipes[\"cuisine\"] == \"philippines\", \"cuisine\"] = \"philippine\"\n",
        "recipes.loc[recipes[\"cuisine\"] == \"scandinavia\", \"cuisine\"] = \"scandinavian\"\n",
        "recipes.loc[recipes[\"cuisine\"] == \"spain\", \"cuisine\"] = \"spanish_portuguese\"\n",
        "recipes.loc[recipes[\"cuisine\"] == \"portugal\", \"cuisine\"] = \"spanish_portuguese\"\n",
        "recipes.loc[recipes[\"cuisine\"] == \"switzerland\", \"cuisine\"] = \"swiss\"\n",
        "recipes.loc[recipes[\"cuisine\"] == \"thailand\", \"cuisine\"] = \"thai\"\n",
        "recipes.loc[recipes[\"cuisine\"] == \"turkey\", \"cuisine\"] = \"turkish\"\n",
        "recipes.loc[recipes[\"cuisine\"] == \"vietnam\", \"cuisine\"] = \"vietnamese\"\n",
        "recipes.loc[recipes[\"cuisine\"] == \"uk-and-ireland\", \"cuisine\"] = \"uk-and-irish\"\n",
        "recipes.loc[recipes[\"cuisine\"] == \"irish\", \"cuisine\"] = \"uk-and-irish\"\n",
        "\n",
        "recipes"
      ],
      "metadata": {
        "button": false,
        "new_sheet": false,
        "run_control": {
          "read_only": false
        },
        "id": "v2SygTMnKhgz"
      },
      "execution_count": null,
      "outputs": []
    },
    {
      "cell_type": "markdown",
      "source": [
        "Remove cuisines with < 50 recipes.\n"
      ],
      "metadata": {
        "button": false,
        "new_sheet": false,
        "run_control": {
          "read_only": false
        },
        "id": "qUsFHPW2Khg0"
      }
    },
    {
      "cell_type": "code",
      "source": [
        "# get list of cuisines to keep\n",
        "recipes_counts = recipes[\"cuisine\"].value_counts()\n",
        "cuisines_indices = recipes_counts > 50\n",
        "\n",
        "cuisines_to_keep = list(np.array(recipes_counts.index.values)[np.array(cuisines_indices)])"
      ],
      "metadata": {
        "button": false,
        "new_sheet": false,
        "run_control": {
          "read_only": false
        },
        "id": "DsaKRiFTKhg0"
      },
      "execution_count": null,
      "outputs": []
    },
    {
      "cell_type": "code",
      "source": [
        "rows_before = recipes.shape[0] # number of rows of original dataframe\n",
        "print(\"Number of rows of original dataframe is {}.\".format(rows_before))\n",
        "\n",
        "recipes = recipes.loc[recipes['cuisine'].isin(cuisines_to_keep)]\n",
        "\n",
        "rows_after = recipes.shape[0] # number of rows of processed dataframe\n",
        "print(\"Number of rows of processed dataframe is {}.\".format(rows_after))\n",
        "\n",
        "print(\"{} rows removed!\".format(rows_before - rows_after))"
      ],
      "metadata": {
        "button": false,
        "new_sheet": false,
        "run_control": {
          "read_only": false
        },
        "id": "7uUPm9-DKhg0"
      },
      "execution_count": null,
      "outputs": []
    },
    {
      "cell_type": "markdown",
      "source": [
        "Convert all Yes's to 1's and the No's to 0's\n"
      ],
      "metadata": {
        "button": false,
        "new_sheet": false,
        "run_control": {
          "read_only": false
        },
        "id": "-AKloYmDKhg0"
      }
    },
    {
      "cell_type": "code",
      "source": [
        "recipes = recipes.replace(to_replace=\"Yes\", value=1)\n",
        "recipes = recipes.replace(to_replace=\"No\", value=0)"
      ],
      "metadata": {
        "button": false,
        "new_sheet": false,
        "run_control": {
          "read_only": false
        },
        "id": "bYQcipCqKhg0"
      },
      "execution_count": null,
      "outputs": []
    },
    {
      "cell_type": "markdown",
      "source": [
        "#### Let's analyze the data a little more in order to learn the data better and note any interesting preliminary observations.\n"
      ],
      "metadata": {
        "button": false,
        "new_sheet": false,
        "run_control": {
          "read_only": false
        },
        "id": "5G0fo11jKhg1"
      }
    },
    {
      "cell_type": "markdown",
      "source": [
        "Run the following cell to get the recipes that contain **rice** *and* **soy** *and* **wasabi** *and* **seaweed**.\n"
      ],
      "metadata": {
        "button": false,
        "new_sheet": false,
        "run_control": {
          "read_only": false
        },
        "id": "21pLnB_AKhg1"
      }
    },
    {
      "cell_type": "code",
      "source": [
        "recipes.head()"
      ],
      "metadata": {
        "button": false,
        "new_sheet": false,
        "run_control": {
          "read_only": false
        },
        "id": "XRxNbu8JKhg1"
      },
      "execution_count": null,
      "outputs": []
    },
    {
      "cell_type": "code",
      "source": [
        "check_recipes = recipes.loc[\n",
        "    (recipes[\"rice\"] == 1) &\n",
        "    (recipes[\"soy_sauce\"] == 1) &\n",
        "    (recipes[\"wasabi\"] == 1) &\n",
        "    (recipes[\"seaweed\"] == 1)\n",
        "]\n",
        "\n",
        "check_recipes"
      ],
      "metadata": {
        "button": false,
        "new_sheet": false,
        "run_control": {
          "read_only": false
        },
        "id": "86R0TE47Khg1"
      },
      "execution_count": null,
      "outputs": []
    },
    {
      "cell_type": "markdown",
      "source": [
        "Based on the results of the above code, can we classify all recipes that contain **rice** *and* **soy** *and* **wasabi** *and* **seaweed** as **Japanese** recipes? Why?\n"
      ],
      "metadata": {
        "button": false,
        "new_sheet": false,
        "run_control": {
          "read_only": false
        },
        "id": "ptpDfp36Khg2"
      }
    },
    {
      "cell_type": "raw",
      "source": [
        "Your Answer:"
      ],
      "metadata": {
        "button": false,
        "new_sheet": false,
        "run_control": {
          "read_only": false
        },
        "id": "jQCJ4uhaKhg2"
      }
    },
    {
      "cell_type": "markdown",
      "source": [
        "<details><summary>Click here for a solution</summary>\n",
        "\n",
        "```python\n",
        "   #The correct answer is:\n",
        "    \n",
        "    No, because other recipes such as Asian and East_Asian recipes also contain these ingredients.\n",
        "```\n",
        "\n",
        "</details>\n"
      ],
      "metadata": {
        "button": false,
        "new_sheet": false,
        "run_control": {
          "read_only": false
        },
        "id": "Dnll6EL5Khg2"
      }
    },
    {
      "cell_type": "markdown",
      "source": [
        "Let's count the ingredients across all recipes.\n"
      ],
      "metadata": {
        "button": false,
        "new_sheet": false,
        "run_control": {
          "read_only": false
        },
        "id": "dYEyVQ9zKhg2"
      }
    },
    {
      "cell_type": "code",
      "source": [
        "# sum each column\n",
        "ing = recipes.iloc[:, 1:].sum(axis=0)"
      ],
      "metadata": {
        "button": false,
        "new_sheet": false,
        "run_control": {
          "read_only": false
        },
        "id": "yiC0PMl6Khg2"
      },
      "execution_count": null,
      "outputs": []
    },
    {
      "cell_type": "code",
      "source": [
        "# define each column as a pandas series\n",
        "ingredient = pd.Series(ing.index.values, index = np.arange(len(ing)))\n",
        "count = pd.Series(list(ing), index = np.arange(len(ing)))\n",
        "\n",
        "# create the dataframe\n",
        "ing_df = pd.DataFrame(dict(ingredient = ingredient, count = count))\n",
        "ing_df = ing_df[[\"ingredient\", \"count\"]]\n",
        "print(ing_df.to_string())"
      ],
      "metadata": {
        "button": false,
        "new_sheet": false,
        "run_control": {
          "read_only": false
        },
        "id": "oNpz7SpiKhg2"
      },
      "execution_count": null,
      "outputs": []
    },
    {
      "cell_type": "markdown",
      "source": [
        "Now we have a dataframe of ingredients and their total counts across all recipes. Let's sort this dataframe in descending order.\n"
      ],
      "metadata": {
        "button": false,
        "new_sheet": false,
        "run_control": {
          "read_only": false
        },
        "id": "YwzDLkmuKhg2"
      }
    },
    {
      "cell_type": "code",
      "source": [
        "ing_df.sort_values([\"count\"], ascending=False, inplace=True)\n",
        "ing_df.reset_index(inplace=True, drop=True)\n",
        "\n",
        "print(ing_df)"
      ],
      "metadata": {
        "button": false,
        "new_sheet": false,
        "run_control": {
          "read_only": false
        },
        "id": "pwqNtORZKhg2"
      },
      "execution_count": null,
      "outputs": []
    },
    {
      "cell_type": "markdown",
      "source": [
        "#### What are the 3 most popular ingredients?\n"
      ],
      "metadata": {
        "button": false,
        "new_sheet": false,
        "run_control": {
          "read_only": false
        },
        "id": "Vhe5gsOoKhg2"
      }
    },
    {
      "cell_type": "raw",
      "source": [
        "Your Answer:\n",
        "1.\n",
        "\n",
        "2.\n",
        "\n",
        "3."
      ],
      "metadata": {
        "button": false,
        "new_sheet": false,
        "run_control": {
          "read_only": false
        },
        "id": "DCGAUbiaKhg2"
      }
    },
    {
      "cell_type": "markdown",
      "source": [
        "<details><summary>Click here for a solution</summary>\n",
        "\n",
        "```python\n",
        "   #1. Egg with <strong>21,025</strong> occurrences. \n",
        "# 2. Wheat with <strong>20,781</strong> occurrences. \n",
        "# 3. Butter with <strong>20,719</strong> occurrences.\n",
        "```\n",
        "\n",
        "</details>\n"
      ],
      "metadata": {
        "button": false,
        "new_sheet": false,
        "run_control": {
          "read_only": false
        },
        "id": "0SYPHvhEKhg3"
      }
    },
    {
      "cell_type": "markdown",
      "source": [
        "However, note that there is a problem with the above table. There are \\~40,000 American recipes in our dataset, which means that the data is biased towards American ingredients.\n"
      ],
      "metadata": {
        "button": false,
        "new_sheet": false,
        "run_control": {
          "read_only": false
        },
        "id": "IkytG3FgKhg3"
      }
    },
    {
      "cell_type": "markdown",
      "source": [
        "**Therefore**, let's compute a more objective summary of the ingredients by looking at the ingredients per cuisine.\n"
      ],
      "metadata": {
        "button": false,
        "new_sheet": false,
        "run_control": {
          "read_only": false
        },
        "id": "sVmaXkz3Khg3"
      }
    },
    {
      "cell_type": "markdown",
      "source": [
        "#### Let's create a *profile* for each cuisine.\n",
        "\n",
        "In other words, let's try to find out what ingredients Chinese people typically use, and what is **Canadian** food for example.\n"
      ],
      "metadata": {
        "button": false,
        "new_sheet": false,
        "run_control": {
          "read_only": false
        },
        "id": "wNyZUlg_Khg3"
      }
    },
    {
      "cell_type": "code",
      "source": [
        "cuisines = recipes.groupby(\"cuisine\").mean()\n",
        "cuisines.head()"
      ],
      "metadata": {
        "button": false,
        "new_sheet": false,
        "run_control": {
          "read_only": false
        },
        "id": "AV01Op0VKhg3"
      },
      "execution_count": null,
      "outputs": []
    },
    {
      "cell_type": "markdown",
      "source": [
        "As shown above, we have just created a dataframe where each row is a cuisine and each column (except for the first column) is an ingredient, and the row values represent the percentage of each ingredient in the corresponding cuisine.\n",
        "\n",
        "**For example**:\n",
        "\n",
        "*   *almond* is present across 15.65% of all of the **African** recipes.\n",
        "*   *butter* is present across 38.11% of all of the **Canadian** recipes.\n"
      ],
      "metadata": {
        "button": false,
        "new_sheet": false,
        "run_control": {
          "read_only": false
        },
        "id": "S8tbVE_qKhg3"
      }
    },
    {
      "cell_type": "markdown",
      "source": [
        "Let's print out the profile for each cuisine by displaying the top four ingredients in each cuisine.\n"
      ],
      "metadata": {
        "button": false,
        "new_sheet": false,
        "run_control": {
          "read_only": false
        },
        "id": "BWXdPlMkKhg3"
      }
    },
    {
      "cell_type": "code",
      "source": [
        "num_ingredients = 4 # define number of top ingredients to print\n",
        "\n",
        "# define a function that prints the top ingredients for each cuisine\n",
        "def print_top_ingredients(row):\n",
        "    print(row.name.upper())\n",
        "    row_sorted = row.sort_values(ascending=False)*100\n",
        "    top_ingredients = list(row_sorted.index.values)[0:num_ingredients]\n",
        "    row_sorted = list(row_sorted)[0:num_ingredients]\n",
        "\n",
        "    for ind, ingredient in enumerate(top_ingredients):\n",
        "        print(\"%s (%d%%)\" % (ingredient, row_sorted[ind]), end=' ')\n",
        "    print(\"\\n\")\n",
        "\n",
        "# apply function to cuisines dataframe\n",
        "create_cuisines_profiles = cuisines.apply(print_top_ingredients, axis=1)"
      ],
      "metadata": {
        "button": false,
        "new_sheet": false,
        "run_control": {
          "read_only": false
        },
        "id": "k6ML8KQYKhg3"
      },
      "execution_count": null,
      "outputs": []
    },
    {
      "cell_type": "markdown",
      "source": [
        "At this point, we feel that we have understood the data well and the data is ready and is in the right format for modeling!\n",
        "\n",
        "***\n"
      ],
      "metadata": {
        "button": false,
        "new_sheet": false,
        "run_control": {
          "read_only": false
        },
        "id": "OzrbtQ-lKhg3"
      }
    },
    {
      "cell_type": "markdown",
      "source": [
        "### Thank you for completing this lab!\n",
        "\n",
        "This notebook is part of a course called *The Data Science Method*. If you accessed this notebook outside the course, you can take this course, online by clicking [here](https://cocl.us/DS0103EN-Exercise-From-Understanding-to-Preparation).\n",
        "\n",
        "## Author\n",
        "\n",
        "<a href=\"https://www.linkedin.com/in/aklson/?utm_medium=Exinfluencer&utm_source=Exinfluencer&utm_content=000026UJ&utm_term=10006555&utm_id=NA-SkillsNetwork-Channel-SkillsNetworkCoursesIBMDeveloperSkillsNetworkDS0103ENSkillsNetwork20083987-2022-01-01\" target=\"_blank\">Alex Aklson</a>\n",
        "\n",
        "## Change Log\n",
        "\n",
        "| Date (YYYY-MM-DD) | Version | Changed By | Change Description                 |\n",
        "| ----------------- | ------- | ---------- | ---------------------------------- |\n",
        "| 2021-04-06        | 2.2     | Malika     | Updated dataset link               |\n",
        "| 2020-09-23        | 2.1     | Lakshmi    | Fixed Typo errors                  |\n",
        "| 2020-08-27        | 2.0     | Lavanya    | Moved lab to course repo in GitLab |\n",
        "\n",
        "<hr>\n",
        "\n",
        "## <h3 align=\"center\"> © IBM Corporation 2020. All rights reserved. <h3/>\n"
      ],
      "metadata": {
        "button": false,
        "new_sheet": false,
        "run_control": {
          "read_only": false
        },
        "id": "DLcF5ngqKhg3"
      }
    }
  ]
}